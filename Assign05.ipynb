{
  "nbformat": 4,
  "nbformat_minor": 0,
  "metadata": {
    "colab": {
      "provenance": [],
      "authorship_tag": "ABX9TyPdTvXWIxXlM5GxbeOAbnvH",
      "include_colab_link": true
    },
    "kernelspec": {
      "name": "python3",
      "display_name": "Python 3"
    },
    "language_info": {
      "name": "python"
    }
  },
  "cells": [
    {
      "cell_type": "markdown",
      "metadata": {
        "id": "view-in-github",
        "colab_type": "text"
      },
      "source": [
        "<a href=\"https://colab.research.google.com/github/SyedMYousha/Python/blob/main/Assign05.ipynb\" target=\"_parent\"><img src=\"https://colab.research.google.com/assets/colab-badge.svg\" alt=\"Open In Colab\"/></a>"
      ]
    },
    {
      "cell_type": "code",
      "execution_count": 4,
      "metadata": {
        "id": "fHofuaKsQUh8",
        "outputId": "3b61e3d3-4ff1-4602-9268-49b48d04c108",
        "colab": {
          "base_uri": "https://localhost:8080/"
        }
      },
      "outputs": [
        {
          "output_type": "stream",
          "name": "stdout",
          "text": [
            "                                               title  \\\n",
            "0  \\n                            It is essential ...   \n",
            "\n",
            "                                            question  \\\n",
            "0  \\n            Question\\n            \\n        ...   \n",
            "\n",
            "                                              answer  \n",
            "0  \\n            \\n                \\n            ...  \n",
            "ok\n"
          ]
        }
      ],
      "source": [
        "from bs4 import BeautifulSoup\n",
        "import requests\n",
        "import pandas as pd\n",
        "\n",
        "url=\"https://islamqa.info/en/answers/128927/it-is-essential-to-acquire-and-take-possession-of-items-before-selling-them\"\n",
        "response=requests.get(url)\n",
        "soup=BeautifulSoup(response.content,\"html5\")\n",
        "\n",
        "title=soup.find(class_=\"title is-4 is-size-5-touch\")\n",
        "\n",
        "que=soup.find(class_=\"single_fatwa__question text-justified\")\n",
        "\n",
        "ans=soup.find(class_=\"single_fatwa__answer\")\n",
        "\n",
        "data=[[title.text,que.text,ans.text]]\n",
        "df=pd.DataFrame(data,columns=[\"title\",\"question\",\"answer\"])\n",
        "print(df)\n",
        "df.to_csv(\"data.csv\")\n",
        "print(\"scraped\")"
      ]
    }
  ]
}
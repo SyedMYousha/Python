{
  "nbformat": 4,
  "nbformat_minor": 0,
  "metadata": {
    "colab": {
      "provenance": [],
      "authorship_tag": "ABX9TyMg+f7Py2/YIca6aNr22SR6"
    },
    "kernelspec": {
      "name": "python3",
      "display_name": "Python 3"
    },
    "language_info": {
      "name": "python"
    }
  },
  "cells": [
    {
      "cell_type": "code",
      "execution_count": 23,
      "metadata": {
        "colab": {
          "base_uri": "https://localhost:8080/"
        },
        "id": "e7kEw7ojXCXC",
        "outputId": "32802477-263f-4661-9e75-b1fd5e9610b2"
      },
      "outputs": [
        {
          "output_type": "stream",
          "name": "stdout",
          "text": [
            "                                               title  \\\n",
            "0  \\n                            When did Islam B...   \n",
            "\n",
            "                                            question  \\\n",
            "0  \\n            Question\\n            \\n        ...   \n",
            "\n",
            "                                              answer  \n",
            "0  \\n\\n                \\n                    Prai...  \n",
            "ok\n"
          ]
        }
      ],
      "source": [
        "from bs4 import BeautifulSoup\n",
        "import requests\n",
        "import pandas as pd\n",
        "\n",
        "url = \"https://islamqa.info/en/categories/very-important/120/answers/10267/when-did-islam-begin-and-who-started-the-muslim-tradition\"\n",
        "response = requests.get(url)\n",
        "soup = BeautifulSoup(response.content, \"html5\")\n",
        "\n",
        "title = soup.find(class_=\"title is-4 is-size-5-touch\")\n",
        "\n",
        "que = soup.find(class_=\"single_fatwa__question text-justified\")\n",
        "\n",
        "ans = soup.find(class_=\"single_fatwa__answer__body text-justified _pa--0\")\n",
        "\n",
        "data=[[title.text, que.text, ans.text]]\n",
        "df=pd.DataFrame(data,columns=[\"title\",\"question\",\"answer\"])\n",
        "print(df)\n",
        "df.to_csv(\"demo.csv\")\n",
        "print(\"ok\")\n"
      ]
    }
  ]
}